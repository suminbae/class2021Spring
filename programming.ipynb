{
  "nbformat": 4,
  "nbformat_minor": 0,
  "metadata": {
    "colab": {
      "name": "programming.ipynb",
      "provenance": [],
      "authorship_tag": "ABX9TyNoZm/r588AbOiwvE6qWf6s",
      "include_colab_link": true
    },
    "kernelspec": {
      "name": "python3",
      "display_name": "Python 3"
    }
  },
  "cells": [
    {
      "cell_type": "markdown",
      "metadata": {
        "id": "view-in-github",
        "colab_type": "text"
      },
      "source": [
        "<a href=\"https://colab.research.google.com/github/suminbae/class2021Spring/blob/main/programming.ipynb\" target=\"_parent\"><img src=\"https://colab.research.google.com/assets/colab-badge.svg\" alt=\"Open In Colab\"/></a>"
      ]
    },
    {
      "cell_type": "code",
      "metadata": {
        "id": "X1SP0Ya3o4yh"
      },
      "source": [
        ""
      ],
      "execution_count": null,
      "outputs": []
    },
    {
      "cell_type": "markdown",
      "metadata": {
        "id": "5KNc8qD8o7hN"
      },
      "source": [
        "##컴퓨터 언어\r\n",
        "\r\n",
        "\r\n",
        "*   변수(Variable)\r\n",
        "\r\n",
        "*   제어문: 인간의 언어에서의 문법과 같은 것\r\n",
        "   1.   반복: for\r\n",
        "   2.   조건: if (예: a=1 / if a==1, print(3))\r\n",
        "\r\n",
        "*   함수(function): 입출력관계\r\n",
        "\r\n",
        "  입력 ------변화(function)------>출력\r\n",
        "  y= f(x)에서, y는 출력(output), x는 입력(input)\r\n",
        "  \r\n",
        "  인간의 몸도 하나의 함수로, 감각이나 음식물, 외부의 자극 등이 입력되는 것\r\n",
        "\r\n",
        "\r\n",
        "\r\n",
        "\r\n",
        "\r\n",
        "\r\n",
        "\r\n"
      ]
    }
  ]
}