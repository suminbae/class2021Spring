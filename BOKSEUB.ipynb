{
  "nbformat": 4,
  "nbformat_minor": 0,
  "metadata": {
    "colab": {
      "name": "BOKSEUB.ipynb",
      "provenance": [],
      "collapsed_sections": [],
      "authorship_tag": "ABX9TyNv6uVZ7bDuBzJmyeB4C6XV",
      "include_colab_link": true
    },
    "kernelspec": {
      "name": "python3",
      "display_name": "Python 3"
    },
    "language_info": {
      "name": "python"
    }
  },
  "cells": [
    {
      "cell_type": "markdown",
      "metadata": {
        "id": "view-in-github",
        "colab_type": "text"
      },
      "source": [
        "<a href=\"https://colab.research.google.com/github/suminbae/class2021Spring/blob/main/BOKSEUB.ipynb\" target=\"_parent\"><img src=\"https://colab.research.google.com/assets/colab-badge.svg\" alt=\"Open In Colab\"/></a>"
      ]
    },
    {
      "cell_type": "code",
      "metadata": {
        "id": "sNnwIHMGgYHy"
      },
      "source": [
        ""
      ],
      "execution_count": null,
      "outputs": []
    },
    {
      "cell_type": "markdown",
      "metadata": {
        "id": "FvH6NxRWi0aW"
      },
      "source": [
        "#변수\n",
        "변수를 사용하려면 선언을 해야하는데 안 그러면 not defined 오류 나옴.\n",
        "\n",
        "변수의 종류를 보기 위해 type 함수를 사용하면 됨.\n",
        "\n",
        "float는 유리수 / bool은 true 아니면 false / tuple은 그냥 괄호, list는 대괄호 / dict는 단어 뜻"
      ]
    },
    {
      "cell_type": "code",
      "metadata": {
        "colab": {
          "base_uri": "https://localhost:8080/"
        },
        "id": "JIDQ4RthjJC8",
        "outputId": "dcb5238d-81e0-4dfe-aabb-b1e165d09f9c"
      },
      "source": [
        "a = 1\n",
        "b = 'gg'\n",
        "c = 1.5\n",
        "d= True\n",
        "e = [1,2,3]\n",
        "f= (1,2,3)\n",
        "g= {\"a\":\"apple\",\"b\":\"icetea\",\"c\":\"pizza\"}\n",
        "\n",
        "print(type(a))\n",
        "print(type(b))\n",
        "print(type(c))\n",
        "print(type(d))\n",
        "print(type(e))\n",
        "print(type(f))\n",
        "print(type(g))"
      ],
      "execution_count": 2,
      "outputs": [
        {
          "output_type": "stream",
          "text": [
            "<class 'int'>\n",
            "<class 'str'>\n",
            "<class 'float'>\n",
            "<class 'bool'>\n",
            "<class 'list'>\n",
            "<class 'tuple'>\n",
            "<class 'dict'>\n"
          ],
          "name": "stdout"
        }
      ]
    },
    {
      "cell_type": "code",
      "metadata": {
        "colab": {
          "base_uri": "https://localhost:8080/"
        },
        "id": "vXeUQg3gkc3w",
        "outputId": "2cd79e79-26de-47f7-e37a-8d74ecd9cb67"
      },
      "source": [
        "a='123'\n",
        "b=list(a)\n",
        "print(type(a))\n",
        "print(a[2])"
      ],
      "execution_count": 4,
      "outputs": [
        {
          "output_type": "stream",
          "text": [
            "<class 'str'>\n",
            "3\n"
          ],
          "name": "stdout"
        }
      ]
    },
    {
      "cell_type": "code",
      "metadata": {
        "colab": {
          "base_uri": "https://localhost:8080/"
        },
        "id": "0fgQh6mpkto2",
        "outputId": "bc0c941d-d84e-46fb-878f-34a6c69b978a"
      },
      "source": [
        "a=[1,'2',[3,'4']]\n",
        "print(type(a))\n",
        "print(a[0])\n",
        "print(a[-1])"
      ],
      "execution_count": 6,
      "outputs": [
        {
          "output_type": "stream",
          "text": [
            "<class 'list'>\n",
            "1\n",
            "[3, '4']\n"
          ],
          "name": "stdout"
        }
      ]
    },
    {
      "cell_type": "code",
      "metadata": {
        "colab": {
          "base_uri": "https://localhost:8080/"
        },
        "id": "_YcmPE_blA2v",
        "outputId": "35888503-9410-46a5-ea55-056bd7e1a11c"
      },
      "source": [
        "print(type(g))\n",
        "print(g[\"c\"])"
      ],
      "execution_count": 7,
      "outputs": [
        {
          "output_type": "stream",
          "text": [
            "<class 'dict'>\n",
            "pizza\n"
          ],
          "name": "stdout"
        }
      ]
    },
    {
      "cell_type": "markdown",
      "metadata": {
        "id": "7psFAKePlbVi"
      },
      "source": [
        "#String\n",
        "string.upper() 전체를 대문자로 변경\n",
        "\n",
        "string.lower() 전체를 소문자로 변경\n",
        "\n",
        "string.find(substring,start,end) <-- string에서 substring을 string[start]부터 string[end-1]까지에서 찾아서 substring[0]의 index값을 return한다. 만약에 찾는 값이 없으면 -1을 return한다.\n",
        "\n",
        "index = string에서 substring을 string[start]부터 string[end-1]까지에서 찾아서 substring[0]의 index값을 return한다. 만약에 찾는 값이 없으면 ValueError가 난다. (이제 find와의 유일한 차이점임)\n",
        "\n",
        "rfind, rindex --> 역순으로 찾아주는 것 (오른쪽부터)\n",
        "\n",
        "string.strip(substring) - string의 양쪽 끝에서 substring의 substring을 더이상 안 나올때까지 삭제\n",
        "\n",
        "s= 'this is a house built this year.\\n'\n",
        "\n",
        "백슬래시n은 한 줄 띄어쓰기\n",
        "\n",
        "여기서 s=s.strip()을 하면, 공백 안남을때까지 다 지워버림\n",
        "그러니까 결과는 'this is a house build this year' <-- 띄어쓰기 지워짐\n",
        "\n",
        "s.split(standard) - string을 standard 기준으로 쪼개서 list로 return하는 것\n",
        "\n",
        "'standard'.join(list) - list의 모든 index 사이의 standard를 넣어서 string으로 return\n",
        "\n",
        "s.replace(substring,newstring) - substring을 newstring으로 대체\n",
        "\n",
        "\n",
        "\n",
        "\n"
      ]
    },
    {
      "cell_type": "code",
      "metadata": {
        "colab": {
          "base_uri": "https://localhost:8080/"
        },
        "id": "G-cvqGcNnol0",
        "outputId": "bfe83fc6-33c0-4cd0-8d6c-41995bea1d38"
      },
      "source": [
        "s='this is a house built this year\\n'\n",
        "print(s)"
      ],
      "execution_count": 8,
      "outputs": [
        {
          "output_type": "stream",
          "text": [
            "this is a house built this year\n",
            "\n"
          ],
          "name": "stdout"
        }
      ]
    },
    {
      "cell_type": "code",
      "metadata": {
        "colab": {
          "base_uri": "https://localhost:8080/"
        },
        "id": "f32502ENnvZ3",
        "outputId": "5c4a5595-b998-4241-a97a-77fa62c8ed85"
      },
      "source": [
        "s=s.strip()\n",
        "print(s.strip())"
      ],
      "execution_count": 9,
      "outputs": [
        {
          "output_type": "stream",
          "text": [
            "this is a house built this year\n"
          ],
          "name": "stdout"
        }
      ]
    },
    {
      "cell_type": "code",
      "metadata": {
        "colab": {
          "base_uri": "https://localhost:8080/",
          "height": 36
        },
        "id": "6WMx694JpLxJ",
        "outputId": "15f75fa9-2d38-4def-f683-fe6872997f55"
      },
      "source": [
        "alist=['pizza','pasta','cola','dooboo']\n",
        "s = '?'.join(alist)\n",
        "s"
      ],
      "execution_count": 14,
      "outputs": [
        {
          "output_type": "execute_result",
          "data": {
            "application/vnd.google.colaboratory.intrinsic+json": {
              "type": "string"
            },
            "text/plain": [
              "'pizza?pasta?cola?dooboo'"
            ]
          },
          "metadata": {
            "tags": []
          },
          "execution_count": 14
        }
      ]
    },
    {
      "cell_type": "code",
      "metadata": {
        "colab": {
          "base_uri": "https://localhost:8080/",
          "height": 36
        },
        "id": "YAcRhSQapb8-",
        "outputId": "d36ef1bd-314b-40e9-d023-0c85335f6a84"
      },
      "source": [
        "s = s.replace('dooboo','ramen')\n",
        "s\n"
      ],
      "execution_count": 15,
      "outputs": [
        {
          "output_type": "execute_result",
          "data": {
            "application/vnd.google.colaboratory.intrinsic+json": {
              "type": "string"
            },
            "text/plain": [
              "'pizza?pasta?cola?ramen'"
            ]
          },
          "metadata": {
            "tags": []
          },
          "execution_count": 15
        }
      ]
    },
    {
      "cell_type": "markdown",
      "metadata": {
        "id": "O9DY-i_trDMz"
      },
      "source": [
        "# Syntax\n",
        "\n"
      ]
    },
    {
      "cell_type": "code",
      "metadata": {
        "colab": {
          "base_uri": "https://localhost:8080/"
        },
        "id": "cEllqU3DrKho",
        "outputId": "6d17bc67-eb29-4fb4-8606-b0cd1b84b98b"
      },
      "source": [
        "a=[1,2,3,4]\n",
        "for i in a:\n",
        "  print(i)"
      ],
      "execution_count": 16,
      "outputs": [
        {
          "output_type": "stream",
          "text": [
            "1\n",
            "2\n",
            "3\n",
            "4\n"
          ],
          "name": "stdout"
        }
      ]
    },
    {
      "cell_type": "code",
      "metadata": {
        "colab": {
          "base_uri": "https://localhost:8080/"
        },
        "id": "imO68T4xrO31",
        "outputId": "35b47901-b4e3-41ab-9410-e4dd6515641c"
      },
      "source": [
        "a=['pizza','pasta','cola','dooboo']\n",
        "for i in range(len(a)):\n",
        "  print(a[i])"
      ],
      "execution_count": 17,
      "outputs": [
        {
          "output_type": "stream",
          "text": [
            "pizza\n",
            "pasta\n",
            "cola\n",
            "dooboo\n"
          ],
          "name": "stdout"
        }
      ]
    },
    {
      "cell_type": "markdown",
      "metadata": {
        "id": "bpeSnorQr2Ce"
      },
      "source": [
        "for i in range (len(a)):\n",
        "\n",
        "이렇게 쓰면 len(a)=4 니까 for i in ragne(4)\n",
        "\n",
        "i in range(4)는 0부터 3까지!!!!!!!!!!!!!!!!!!!!!!!!!!!!!!\n",
        "\n",
        "range(start,end,interval) \n",
        "\n",
        "range는 start부터 end-1까지 interval의 간격으로 숫자를 출력하는 것. start의 default값은 0, interval의 default값은 1, end는 default값이 없음. 반드시 써줘야 함!\n",
        "\n",
        "그러니까 range(4)는 곧 range(0,4,1)을 의미함. 0부터 3까지 1의 간격으로.\n",
        "\n"
      ]
    },
    {
      "cell_type": "code",
      "metadata": {
        "colab": {
          "base_uri": "https://localhost:8080/"
        },
        "id": "3rq6hUAxs39t",
        "outputId": "ac8cce95-6dda-4b22-b9f5-dedcbc615e6d"
      },
      "source": [
        "a=['red','green','blue','hagisilta']\n",
        "for i in a:\n",
        "  print(i)"
      ],
      "execution_count": 18,
      "outputs": [
        {
          "output_type": "stream",
          "text": [
            "red\n",
            "green\n",
            "blue\n",
            "hagisilta\n"
          ],
          "name": "stdout"
        }
      ]
    },
    {
      "cell_type": "code",
      "metadata": {
        "colab": {
          "base_uri": "https://localhost:8080/"
        },
        "id": "eKmdJ5KXtBvz",
        "outputId": "c8782d37-30c2-4b81-d49b-ebfb472c41f4"
      },
      "source": [
        "for i in range(len(a)):\n",
        "  print(a[-1])"
      ],
      "execution_count": 21,
      "outputs": [
        {
          "output_type": "stream",
          "text": [
            "hagisilta\n",
            "hagisilta\n",
            "hagisilta\n",
            "hagisilta\n"
          ],
          "name": "stdout"
        }
      ]
    },
    {
      "cell_type": "code",
      "metadata": {
        "colab": {
          "base_uri": "https://localhost:8080/"
        },
        "id": "y4TZT_7-tYzM",
        "outputId": "898aa5f2-696e-4c6f-95cf-f5d579d5cb6d"
      },
      "source": [
        "a=0\n",
        "if a==0:\n",
        "  print(a)\n",
        "else:\n",
        "  print(a+1)"
      ],
      "execution_count": 24,
      "outputs": [
        {
          "output_type": "stream",
          "text": [
            "0\n"
          ],
          "name": "stdout"
        }
      ]
    },
    {
      "cell_type": "code",
      "metadata": {
        "colab": {
          "base_uri": "https://localhost:8080/"
        },
        "id": "i4bkM6WIuVuJ",
        "outputId": "29711964-7756-4a91-bfdd-aa1414076024"
      },
      "source": [
        "for i in range(1,3):\n",
        "  for j in range(3,5):\n",
        "    print(i+j)"
      ],
      "execution_count": 25,
      "outputs": [
        {
          "output_type": "stream",
          "text": [
            "4\n",
            "5\n",
            "5\n",
            "6\n"
          ],
          "name": "stdout"
        }
      ]
    },
    {
      "cell_type": "markdown",
      "metadata": {
        "id": "Rq6HosVOvPjy"
      },
      "source": [
        "1,2에서 i // 3,4에서 j --> 각각 더하면 4, 5, 5, 6"
      ]
    },
    {
      "cell_type": "code",
      "metadata": {
        "colab": {
          "base_uri": "https://localhost:8080/"
        },
        "id": "N5y2tPnbvV4a",
        "outputId": "8ae8c9d6-bef9-4bee-efa0-4a813cbd46a7"
      },
      "source": [
        "for i in range(1,3):\n",
        "  for j in range(4,6):\n",
        "    if j>4:\n",
        "      print(i*j)"
      ],
      "execution_count": 28,
      "outputs": [
        {
          "output_type": "stream",
          "text": [
            "5\n",
            "10\n"
          ],
          "name": "stdout"
        }
      ]
    },
    {
      "cell_type": "code",
      "metadata": {
        "colab": {
          "base_uri": "https://localhost:8080/"
        },
        "id": "QWkU4_nSvrHr",
        "outputId": "66ad3237-f1b2-4d92-be4c-53134f1dd4d9"
      },
      "source": [
        "a=[0,1,2,3,4]\n",
        "b=[i for i in a if i>=2]\n",
        "b"
      ],
      "execution_count": 30,
      "outputs": [
        {
          "output_type": "execute_result",
          "data": {
            "text/plain": [
              "[2, 3, 4]"
            ]
          },
          "metadata": {
            "tags": []
          },
          "execution_count": 30
        }
      ]
    },
    {
      "cell_type": "code",
      "metadata": {
        "colab": {
          "base_uri": "https://localhost:8080/"
        },
        "id": "AuOvbbL6wL9z",
        "outputId": "b8b496b0-d75c-48d3-d4b9-a1b553e123c2"
      },
      "source": [
        "a=['jiruhey','hagisilta','himduro','jipgaza']\n",
        "b=[i for i in a if len(i)<=7]\n",
        "print(b)"
      ],
      "execution_count": 32,
      "outputs": [
        {
          "output_type": "stream",
          "text": [
            "['jiruhey', 'himduro', 'jipgaza']\n"
          ],
          "name": "stdout"
        }
      ]
    },
    {
      "cell_type": "code",
      "metadata": {
        "colab": {
          "base_uri": "https://localhost:8080/"
        },
        "id": "l2Nx4HIRwy0f",
        "outputId": "c69fc5ba-8a7c-4468-c88b-351022af583c"
      },
      "source": [
        "def add(a,b):\n",
        "  return a+b\n",
        "\n",
        "add(3,5)"
      ],
      "execution_count": 35,
      "outputs": [
        {
          "output_type": "execute_result",
          "data": {
            "text/plain": [
              "8"
            ]
          },
          "metadata": {
            "tags": []
          },
          "execution_count": 35
        }
      ]
    },
    {
      "cell_type": "code",
      "metadata": {
        "colab": {
          "base_uri": "https://localhost:8080/"
        },
        "id": "fw7i0MQMxLqw",
        "outputId": "b20e7096-941b-4d04-bc75-42cb5d49e8cb"
      },
      "source": [
        "def babo(x,a,b,c):\n",
        "  return a*x**2+b*x+c\n",
        "\n",
        "babo(1,0,2,3)"
      ],
      "execution_count": 36,
      "outputs": [
        {
          "output_type": "execute_result",
          "data": {
            "text/plain": [
              "5"
            ]
          },
          "metadata": {
            "tags": []
          },
          "execution_count": 36
        }
      ]
    },
    {
      "cell_type": "markdown",
      "metadata": {
        "id": "y7cXL2cQxzxA"
      },
      "source": [
        "#Numpy\n",
        "\n"
      ]
    },
    {
      "cell_type": "code",
      "metadata": {
        "id": "Hdpu9VgIygkK"
      },
      "source": [
        "import numpy as np\n",
        "import matplotlib.pyplot as plt"
      ],
      "execution_count": 37,
      "outputs": []
    },
    {
      "cell_type": "markdown",
      "metadata": {
        "id": "Z53a7oAAytoS"
      },
      "source": [
        "np.zeros(list) - list가 [a,b,c]라면 b행 c열의 matrix a개를 만드는 것.\n",
        "\n",
        "np.ones(list) - a개의 b행 c열의 matrix 만들기\n",
        "\n",
        "np.empty(list) "
      ]
    },
    {
      "cell_type": "code",
      "metadata": {
        "colab": {
          "base_uri": "https://localhost:8080/"
        },
        "id": "aWYU0se4zPLe",
        "outputId": "84545926-265d-4b8f-ca48-d204bca2017e"
      },
      "source": [
        "np.zeros([2,3,4])"
      ],
      "execution_count": 38,
      "outputs": [
        {
          "output_type": "execute_result",
          "data": {
            "text/plain": [
              "array([[[0., 0., 0., 0.],\n",
              "        [0., 0., 0., 0.],\n",
              "        [0., 0., 0., 0.]],\n",
              "\n",
              "       [[0., 0., 0., 0.],\n",
              "        [0., 0., 0., 0.],\n",
              "        [0., 0., 0., 0.]]])"
            ]
          },
          "metadata": {
            "tags": []
          },
          "execution_count": 38
        }
      ]
    },
    {
      "cell_type": "code",
      "metadata": {
        "colab": {
          "base_uri": "https://localhost:8080/"
        },
        "id": "DlaF50tfzWf3",
        "outputId": "b1656311-8fbd-4ea6-a1c0-aecf6d9dbb2a"
      },
      "source": [
        "np.empty([3,4,5])"
      ],
      "execution_count": 42,
      "outputs": [
        {
          "output_type": "execute_result",
          "data": {
            "text/plain": [
              "array([[[4.66095032e-310, 0.00000000e+000, 0.00000000e+000,\n",
              "         0.00000000e+000, 0.00000000e+000],\n",
              "        [0.00000000e+000, 0.00000000e+000, 0.00000000e+000,\n",
              "         0.00000000e+000, 0.00000000e+000],\n",
              "        [0.00000000e+000, 0.00000000e+000, 0.00000000e+000,\n",
              "         0.00000000e+000, 0.00000000e+000],\n",
              "        [0.00000000e+000, 0.00000000e+000, 0.00000000e+000,\n",
              "         0.00000000e+000, 0.00000000e+000]],\n",
              "\n",
              "       [[0.00000000e+000, 0.00000000e+000, 0.00000000e+000,\n",
              "         0.00000000e+000, 0.00000000e+000],\n",
              "        [0.00000000e+000, 0.00000000e+000, 0.00000000e+000,\n",
              "         0.00000000e+000, 0.00000000e+000],\n",
              "        [0.00000000e+000, 0.00000000e+000, 0.00000000e+000,\n",
              "         0.00000000e+000, 0.00000000e+000],\n",
              "        [0.00000000e+000, 0.00000000e+000, 0.00000000e+000,\n",
              "         0.00000000e+000, 0.00000000e+000]],\n",
              "\n",
              "       [[0.00000000e+000, 0.00000000e+000, 0.00000000e+000,\n",
              "         0.00000000e+000, 0.00000000e+000],\n",
              "        [0.00000000e+000, 0.00000000e+000, 0.00000000e+000,\n",
              "         0.00000000e+000, 0.00000000e+000],\n",
              "        [0.00000000e+000, 0.00000000e+000, 0.00000000e+000,\n",
              "         0.00000000e+000, 0.00000000e+000],\n",
              "        [0.00000000e+000, 0.00000000e+000, 0.00000000e+000,\n",
              "         0.00000000e+000, 0.00000000e+000]]])"
            ]
          },
          "metadata": {
            "tags": []
          },
          "execution_count": 42
        }
      ]
    },
    {
      "cell_type": "code",
      "metadata": {
        "colab": {
          "base_uri": "https://localhost:8080/"
        },
        "id": "8aqAlLTtzpLX",
        "outputId": "460c0437-ec50-4987-8f9c-301b0241979a"
      },
      "source": [
        "np.empty([2,3], dtype='int')"
      ],
      "execution_count": 43,
      "outputs": [
        {
          "output_type": "execute_result",
          "data": {
            "text/plain": [
              "array([[94338685776720,              0,              0],\n",
              "       [             0,              0,              0]])"
            ]
          },
          "metadata": {
            "tags": []
          },
          "execution_count": 43
        }
      ]
    },
    {
      "cell_type": "code",
      "metadata": {
        "colab": {
          "base_uri": "https://localhost:8080/"
        },
        "id": "7ummp_uw0UV8",
        "outputId": "f02791ec-b055-4761-fec5-1d1200cf6db3"
      },
      "source": [
        "np.zeros([2,3])"
      ],
      "execution_count": 44,
      "outputs": [
        {
          "output_type": "execute_result",
          "data": {
            "text/plain": [
              "array([[0., 0., 0.],\n",
              "       [0., 0., 0.]])"
            ]
          },
          "metadata": {
            "tags": []
          },
          "execution_count": 44
        }
      ]
    },
    {
      "cell_type": "code",
      "metadata": {
        "colab": {
          "base_uri": "https://localhost:8080/"
        },
        "id": "pCakjJ7w0Y7c",
        "outputId": "9d6e51a3-7aba-462e-b59b-376e4088ab2f"
      },
      "source": [
        "np.ones([2,3,4])"
      ],
      "execution_count": 45,
      "outputs": [
        {
          "output_type": "execute_result",
          "data": {
            "text/plain": [
              "array([[[1., 1., 1., 1.],\n",
              "        [1., 1., 1., 1.],\n",
              "        [1., 1., 1., 1.]],\n",
              "\n",
              "       [[1., 1., 1., 1.],\n",
              "        [1., 1., 1., 1.],\n",
              "        [1., 1., 1., 1.]]])"
            ]
          },
          "metadata": {
            "tags": []
          },
          "execution_count": 45
        }
      ]
    },
    {
      "cell_type": "code",
      "metadata": {
        "colab": {
          "base_uri": "https://localhost:8080/"
        },
        "id": "9_pqN8yx0ocy",
        "outputId": "27fbb1e1-6859-4294-b2a9-ff2091171142"
      },
      "source": [
        "np.arange(0,10,2,dtype=float)"
      ],
      "execution_count": 50,
      "outputs": [
        {
          "output_type": "execute_result",
          "data": {
            "text/plain": [
              "array([0., 2., 4., 6., 8.])"
            ]
          },
          "metadata": {
            "tags": []
          },
          "execution_count": 50
        }
      ]
    },
    {
      "cell_type": "markdown",
      "metadata": {
        "id": "mV9IVxA-067F"
      },
      "source": [
        "0부터 10직전(9까지) 2만큼의 increment를 가지고 숫자를 만들어라는 뜻."
      ]
    },
    {
      "cell_type": "code",
      "metadata": {
        "colab": {
          "base_uri": "https://localhost:8080/"
        },
        "id": "G82biJvv1Fen",
        "outputId": "6b3eeaa8-4df6-424b-c25d-d334824f6dc9"
      },
      "source": [
        "np.linspace(0,10,6, dtype=float)"
      ],
      "execution_count": 53,
      "outputs": [
        {
          "output_type": "execute_result",
          "data": {
            "text/plain": [
              "array([ 0.,  2.,  4.,  6.,  8., 10.])"
            ]
          },
          "metadata": {
            "tags": []
          },
          "execution_count": 53
        }
      ]
    },
    {
      "cell_type": "markdown",
      "metadata": {
        "id": "ZjyeAZ9R1XkI"
      },
      "source": [
        "linspace는 닫힌구간(양쪽 다 포함. 0~10까지 전부 다. 3번째 인자 = 6은 원소의 개수를 정해주는 것\n",
        "\n",
        "주의) 동일한 간격으로 갯수만큼 출력"
      ]
    },
    {
      "cell_type": "code",
      "metadata": {
        "colab": {
          "base_uri": "https://localhost:8080/"
        },
        "id": "Lxy9FAtN1oVA",
        "outputId": "810b969c-ea6b-4b1d-9b55-2c29cdbfc3fb"
      },
      "source": [
        "x= np.array([[1,2,3],[4,5,6]])\n",
        "x"
      ],
      "execution_count": 55,
      "outputs": [
        {
          "output_type": "execute_result",
          "data": {
            "text/plain": [
              "array([[1, 2, 3],\n",
              "       [4, 5, 6]])"
            ]
          },
          "metadata": {
            "tags": []
          },
          "execution_count": 55
        }
      ]
    },
    {
      "cell_type": "code",
      "metadata": {
        "colab": {
          "base_uri": "https://localhost:8080/"
        },
        "id": "K6ItWFok1xZA",
        "outputId": "22605370-086e-4fbf-f2d2-7a705efd842c"
      },
      "source": [
        "np.zeros_like(x)"
      ],
      "execution_count": 56,
      "outputs": [
        {
          "output_type": "execute_result",
          "data": {
            "text/plain": [
              "array([[0, 0, 0],\n",
              "       [0, 0, 0]])"
            ]
          },
          "metadata": {
            "tags": []
          },
          "execution_count": 56
        }
      ]
    },
    {
      "cell_type": "markdown",
      "metadata": {
        "id": "c5Pv_vkH16Zv"
      },
      "source": [
        "이 결과를 모두 0으로 대체하고 싶으면 np.zeros_like() 하면 됨\n",
        "\n",
        "astype은 type을 변경시키는 것. x가 1,2,3,4,5,6이면 그것의 data type을 변경시키는 것.(float로 바꾸면 유리수가 되는거니까 뒤에 소수점 생김.)"
      ]
    },
    {
      "cell_type": "code",
      "metadata": {
        "colab": {
          "base_uri": "https://localhost:8080/"
        },
        "id": "gZfG0dan2Rfx",
        "outputId": "31dcd035-d596-499f-bbae-0161487293f2"
      },
      "source": [
        "x.astype(np.float64)"
      ],
      "execution_count": 57,
      "outputs": [
        {
          "output_type": "execute_result",
          "data": {
            "text/plain": [
              "array([[1., 2., 3.],\n",
              "       [4., 5., 6.]])"
            ]
          },
          "metadata": {
            "tags": []
          },
          "execution_count": 57
        }
      ]
    },
    {
      "cell_type": "code",
      "metadata": {
        "colab": {
          "base_uri": "https://localhost:8080/",
          "height": 583
        },
        "id": "drHZmqUr2oeU",
        "outputId": "a982f231-3a88-4dc0-d5cc-3a40fe62fadc"
      },
      "source": [
        "data = np.random.normal(0,1,100) # 평균 0, 폭1인 정규분포를 이루는 랜덤 데이터 100개\n",
        "print(data)\n",
        "plt.hist(data,bins=10) # bins는 그래프에서 막대의 개수 이 경우는 기둥 10개짜리 히스토그램\n",
        "plt.show()"
      ],
      "execution_count": 65,
      "outputs": [
        {
          "output_type": "stream",
          "text": [
            "[ 1.21487149 -0.37023596  1.30046641  0.88487099 -0.59425739  2.3218295\n",
            "  1.43347627  2.36341525 -2.34045864  0.49321151 -0.78589567  0.26589915\n",
            "  1.01982659  0.33029936  1.50266849  0.29005407 -0.90332772 -1.59630173\n",
            " -0.92398803 -0.55358853 -0.33230802  0.35587769 -0.78870187  1.67139027\n",
            " -0.70464245  0.31165446  0.00910073  0.96428052  0.87003286 -1.55301649\n",
            " -0.90983425 -1.34573179 -0.49157572 -1.31323725 -0.27405465 -0.15598701\n",
            "  2.87480381  0.01964834  0.35270082  0.3117397   0.08425099 -0.05762044\n",
            "  0.38847746 -0.54555169 -0.74936457  1.47500247 -0.56996026  0.30404678\n",
            " -0.91639093  0.19951194 -0.39088156 -1.49659317  0.90943484  0.13170381\n",
            " -0.48467971 -1.95838581 -0.91014169  1.08370269 -2.14569611 -0.66574799\n",
            "  0.328274   -0.54148719  0.57520138  1.76880323 -0.60886069 -1.19449197\n",
            "  0.14092644  0.96566745 -1.54902825 -1.13917697 -2.04324661 -0.31264997\n",
            "  0.5381521   1.46515554 -0.41630816 -0.02767625  0.70177303 -0.4525391\n",
            "  0.45209703 -0.88745125 -0.9503887   0.29782988 -0.16496083  0.16587166\n",
            " -1.04218563  0.08889775  0.21572245  0.05882122  0.6155907  -1.80437306\n",
            " -0.43048496  0.09490381 -0.88331786 -1.48552324 -0.16901181 -0.56247371\n",
            "  1.986289    0.80188212  1.49238412  0.75983872]\n"
          ],
          "name": "stdout"
        },
        {
          "output_type": "display_data",
          "data": {
            "image/png": "[encoded data removed]",
            "text/plain": [
              "<Figure size 432x288 with 1 Axes>"
            ]
          },
          "metadata": {
            "tags": [],
            "needs_background": "light"
          }
        }
      ]
    },
    {
      "cell_type": "code",
      "metadata": {
        "colab": {
          "base_uri": "https://localhost:8080/"
        },
        "id": "dtLeq7cg3PDl",
        "outputId": "fc65410c-1877-40db-cf07-c609b7634770"
      },
      "source": [
        "X= np.ones([2,3,4])\n",
        "X"
      ],
      "execution_count": 66,
      "outputs": [
        {
          "output_type": "execute_result",
          "data": {
            "text/plain": [
              "array([[[1., 1., 1., 1.],\n",
              "        [1., 1., 1., 1.],\n",
              "        [1., 1., 1., 1.]],\n",
              "\n",
              "       [[1., 1., 1., 1.],\n",
              "        [1., 1., 1., 1.],\n",
              "        [1., 1., 1., 1.]]])"
            ]
          },
          "metadata": {
            "tags": []
          },
          "execution_count": 66
        }
      ]
    },
    {
      "cell_type": "code",
      "metadata": {
        "colab": {
          "base_uri": "https://localhost:8080/"
        },
        "id": "oIwX3KCJ3XTa",
        "outputId": "cb659f77-c014-4d5c-eb1f-185021176275"
      },
      "source": [
        "Y= X.reshape(-1,3,2) #이미 만들어진 행렬을 수정할 수 있음. -1을 쓴다는 것은 정해진 source내에서 가능한 값을 알아서 채우라는 뜻.\n",
        "Y"
      ],
      "execution_count": 67,
      "outputs": [
        {
          "output_type": "execute_result",
          "data": {
            "text/plain": [
              "array([[[1., 1.],\n",
              "        [1., 1.],\n",
              "        [1., 1.]],\n",
              "\n",
              "       [[1., 1.],\n",
              "        [1., 1.],\n",
              "        [1., 1.]],\n",
              "\n",
              "       [[1., 1.],\n",
              "        [1., 1.],\n",
              "        [1., 1.]],\n",
              "\n",
              "       [[1., 1.],\n",
              "        [1., 1.],\n",
              "        [1., 1.]]])"
            ]
          },
          "metadata": {
            "tags": []
          },
          "execution_count": 67
        }
      ]
    },
    {
      "cell_type": "markdown",
      "metadata": {
        "id": "Z-2sLmxw4G96"
      },
      "source": [
        "#Inspecting"
      ]
    },
    {
      "cell_type": "code",
      "metadata": {
        "colab": {
          "base_uri": "https://localhost:8080/"
        },
        "id": "97uFPSce4K4f",
        "outputId": "22e1f442-e62d-4667-e12d-c97c591be240"
      },
      "source": [
        "arr = np.random.random([5,2,3]) #랜덤 숫자 넣어라 2행 3열 5개 matrix\n",
        "arr"
      ],
      "execution_count": 70,
      "outputs": [
        {
          "output_type": "execute_result",
          "data": {
            "text/plain": [
              "array([[[0.14028334, 0.32218954, 0.49533749],\n",
              "        [0.39553315, 0.10588399, 0.99511166]],\n",
              "\n",
              "       [[0.64814998, 0.1898256 , 0.44128137],\n",
              "        [0.58884965, 0.67200624, 0.02898518]],\n",
              "\n",
              "       [[0.74756102, 0.09103732, 0.15094085],\n",
              "        [0.4716724 , 0.57690584, 0.45984412]],\n",
              "\n",
              "       [[0.45490208, 0.2107679 , 0.73647293],\n",
              "        [0.56597331, 0.39916466, 0.76459336]],\n",
              "\n",
              "       [[0.93908862, 0.76469263, 0.85955248],\n",
              "        [0.06932667, 0.89607972, 0.52380242]]])"
            ]
          },
          "metadata": {
            "tags": []
          },
          "execution_count": 70
        }
      ]
    },
    {
      "cell_type": "code",
      "metadata": {
        "colab": {
          "base_uri": "https://localhost:8080/"
        },
        "id": "FsP4qWVg4VGf",
        "outputId": "3db552c8-6144-41bc-b272-a8670e93aa8f"
      },
      "source": [
        "print(type(arr)) #자료형\n",
        "print(len(arr)) #길이\n",
        "print(arr.shape) #(a,b,c)\n",
        "print(arr.ndim) #차원\n",
        "print(arr.dtype) #원소의 자료형"
      ],
      "execution_count": 71,
      "outputs": [
        {
          "output_type": "stream",
          "text": [
            "<class 'numpy.ndarray'>\n",
            "5\n",
            "(5, 2, 3)\n",
            "3\n",
            "float64\n"
          ],
          "name": "stdout"
        }
      ]
    },
    {
      "cell_type": "markdown",
      "metadata": {
        "id": "tuWtytn44yJl"
      },
      "source": [
        "#Operation\n",
        "\n",
        "array끼리 곱하려면 차원이 같아야 한다."
      ]
    },
    {
      "cell_type": "code",
      "metadata": {
        "colab": {
          "base_uri": "https://localhost:8080/"
        },
        "id": "IFCJd6XC42YZ",
        "outputId": "61c9a7ca-7f75-489a-a866-b3a847bc00bb"
      },
      "source": [
        "a = np.arange(1,5)\n",
        "b = np.arange(9,5,-1)\n",
        "print(a)\n",
        "print(b)"
      ],
      "execution_count": 74,
      "outputs": [
        {
          "output_type": "stream",
          "text": [
            "[1 2 3 4]\n",
            "[9 8 7 6]\n"
          ],
          "name": "stdout"
        }
      ]
    },
    {
      "cell_type": "code",
      "metadata": {
        "colab": {
          "base_uri": "https://localhost:8080/"
        },
        "id": "u8M_KtqX5Ptg",
        "outputId": "ae47747d-6f2f-48ad-8ed9-6e5480562b4e"
      },
      "source": [
        "print(a-b)\n",
        "print(a*b)"
      ],
      "execution_count": 75,
      "outputs": [
        {
          "output_type": "stream",
          "text": [
            "[-8 -6 -4 -2]\n",
            "[ 9 16 21 24]\n"
          ],
          "name": "stdout"
        }
      ]
    },
    {
      "cell_type": "code",
      "metadata": {
        "id": "e_BWKULy5S42"
      },
      "source": [
        ""
      ],
      "execution_count": null,
      "outputs": []
    }
  ]
}